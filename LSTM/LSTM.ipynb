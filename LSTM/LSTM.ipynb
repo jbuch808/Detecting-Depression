{
 "cells": [
  {
   "cell_type": "markdown",
   "metadata": {},
   "source": [
    "# Load Data"
   ]
  },
  {
   "cell_type": "code",
   "execution_count": 1,
   "metadata": {},
   "outputs": [],
   "source": [
    "import pandas as pd\n",
    "import numpy as np"
   ]
  },
  {
   "cell_type": "code",
   "execution_count": 4,
   "metadata": {},
   "outputs": [],
   "source": [
    "def load_data():\n",
    "    train_data = pd.read_csv('../SNAP/TRAIN_DATA.csv')\n",
    "    train_X = train_data.iloc[:, :-1]\n",
    "    train_y = train_data[train_data.columns[-1]]\n",
    "    val_data = pd.read_csv('../SNAP/VAL_DATA.csv')\n",
    "    val_X = val_data.iloc[:, :-1]\n",
    "    val_y = val_data[val_data.columns[-1]]\n",
    "    test_data = pd.read_csv('../SNAP/TEST_DATA.csv')\n",
    "    test_X = test_data.iloc[:, :-1]\n",
    "    test_y = test_data[test_data.columns[-1]]\n",
    "\n",
    "    train_X = Convert(train_X)\n",
    "    val_X = Convert(val_X)\n",
    "    test_X = Convert(test_X)\n",
    "    return train_X, train_y, val_X, val_y, test_X, test_y\n",
    "\n",
    "def Convert(x):\n",
    "    data = []\n",
    "    for index, row in x.iterrows():\n",
    "        row_lst = []\n",
    "        for post in row:\n",
    "            if isinstance(post, float) and np.isnan(post):\n",
    "                row_lst.append(np.zeros(768))\n",
    "            else:\n",
    "                a = post.split()\n",
    "                lst = []\n",
    "                for val in a:\n",
    "                    if val != '[' and val[-1] != ']' and val[0] != '[':\n",
    "                        b = float(val)\n",
    "                        lst.append(b)\n",
    "                    elif val[-1] == ']' and len(val) > 1:\n",
    "                        val = val[:-1]\n",
    "                        b = float(val)\n",
    "                        lst.append(b)\n",
    "                    elif val[0] == '[' and len(val) > 1:\n",
    "                        val = val[1:]\n",
    "                        b = float(val)\n",
    "                        lst.append(b)\n",
    "                row_lst.append(np.array(lst))\n",
    "        data.append(np.array(row_lst))\n",
    "    parsed_test_x = np.array(data)\n",
    "    return parsed_test_x"
   ]
  },
  {
   "cell_type": "code",
   "execution_count": 5,
   "metadata": {},
   "outputs": [],
   "source": [
    "train_X, train_y, val_X, val_y, test_X, test_y = load_data()"
   ]
  },
  {
   "cell_type": "markdown",
   "metadata": {},
   "source": [
    "# Design Network"
   ]
  },
  {
   "cell_type": "code",
   "execution_count": 6,
   "metadata": {},
   "outputs": [
    {
     "name": "stderr",
     "output_type": "stream",
     "text": [
      "Using TensorFlow backend.\n"
     ]
    }
   ],
   "source": [
    "from keras.models import Sequential\n",
    "from keras.layers import LSTM, BatchNormalization\n",
    "from keras.layers.core import Dense, Activation, Dropout"
   ]
  },
  {
   "cell_type": "code",
   "execution_count": 251,
   "metadata": {},
   "outputs": [],
   "source": [
    "def createLSTM(X_data, loss):\n",
    "    model = Sequential()\n",
    "\n",
    "    # layer 1: LSTM\n",
    "    model.add(LSTM(400, input_shape=(X_data.shape[1], X_data.shape[2])\n",
    "                   , return_sequences=True))\n",
    "    model.add(Dropout(0.2))\n",
    "    # layer 2: LSTM\n",
    "    model.add(LSTM(150, return_sequences=False))\n",
    "    model.add(Dropout(0.2))\n",
    "\n",
    "    # output\n",
    "    model.add(Dense(1))\n",
    "    model.compile(loss=loss, optimizer='adam', metrics=['mse', 'accuracy'])\n",
    "    return model"
   ]
  },
  {
   "cell_type": "markdown",
   "metadata": {},
   "source": [
    "# Train Network"
   ]
  },
  {
   "cell_type": "code",
   "execution_count": 7,
   "metadata": {},
   "outputs": [],
   "source": [
    "import matplotlib.pyplot as plt"
   ]
  },
  {
   "cell_type": "code",
   "execution_count": 102,
   "metadata": {},
   "outputs": [],
   "source": [
    "def getLossModel(train_X, train_y, loss):\n",
    "    model = createLSTM(train_X, loss)\n",
    "    # fit network\n",
    "    history = model.fit(train_X, train_y, epochs=40, batch_size=120, validation_data=(val_X, val_y))\n",
    "\n",
    "    # plot history\n",
    "    plt.plot(history.history['loss'], label='train')\n",
    "    plt.legend()\n",
    "    plt.show()\n",
    "\n",
    "    return model"
   ]
  },
  {
   "cell_type": "code",
   "execution_count": 103,
   "metadata": {},
   "outputs": [
    {
     "name": "stdout",
     "output_type": "stream",
     "text": [
      "Train on 3551 samples, validate on 1673 samples\n",
      "Epoch 1/40\n",
      "3551/3551 [==============================] - 16s 5ms/step - loss: 0.2900 - mse: 0.2900 - accuracy: 0.7083 - val_loss: 0.1491 - val_mse: 0.1491 - val_accuracy: 0.8183\n",
      "Epoch 2/40\n",
      "3551/3551 [==============================] - 16s 5ms/step - loss: 0.1595 - mse: 0.1595 - accuracy: 0.8178 - val_loss: 0.1509 - val_mse: 0.1509 - val_accuracy: 0.8183\n",
      "Epoch 3/40\n",
      "3551/3551 [==============================] - 17s 5ms/step - loss: 0.1540 - mse: 0.1540 - accuracy: 0.8186 - val_loss: 0.1478 - val_mse: 0.1478 - val_accuracy: 0.8183\n",
      "Epoch 4/40\n",
      "3551/3551 [==============================] - 17s 5ms/step - loss: 0.1448 - mse: 0.1448 - accuracy: 0.8184 - val_loss: 0.1285 - val_mse: 0.1285 - val_accuracy: 0.8195\n",
      "Epoch 5/40\n",
      "3551/3551 [==============================] - 18s 5ms/step - loss: 0.1567 - mse: 0.1567 - accuracy: 0.8102 - val_loss: 0.1409 - val_mse: 0.1409 - val_accuracy: 0.8183\n",
      "Epoch 6/40\n",
      "3551/3551 [==============================] - 18s 5ms/step - loss: 0.1347 - mse: 0.1347 - accuracy: 0.8251 - val_loss: 0.1435 - val_mse: 0.1435 - val_accuracy: 0.7974\n",
      "Epoch 7/40\n",
      "3551/3551 [==============================] - 18s 5ms/step - loss: 0.1137 - mse: 0.1137 - accuracy: 0.8443 - val_loss: 0.1452 - val_mse: 0.1452 - val_accuracy: 0.8207\n",
      "Epoch 8/40\n",
      "3551/3551 [==============================] - 18s 5ms/step - loss: 0.1062 - mse: 0.1062 - accuracy: 0.8665 - val_loss: 0.0790 - val_mse: 0.0790 - val_accuracy: 0.9014\n",
      "Epoch 9/40\n",
      "3551/3551 [==============================] - 18s 5ms/step - loss: 0.0974 - mse: 0.0974 - accuracy: 0.8789 - val_loss: 0.0781 - val_mse: 0.0781 - val_accuracy: 0.9157\n",
      "Epoch 10/40\n",
      "3551/3551 [==============================] - 18s 5ms/step - loss: 0.0826 - mse: 0.0826 - accuracy: 0.9020 - val_loss: 0.0996 - val_mse: 0.0996 - val_accuracy: 0.8428\n",
      "Epoch 11/40\n",
      "3551/3551 [==============================] - 18s 5ms/step - loss: 0.0705 - mse: 0.0705 - accuracy: 0.9158 - val_loss: 0.0576 - val_mse: 0.0576 - val_accuracy: 0.9277\n",
      "Epoch 12/40\n",
      "3551/3551 [==============================] - 18s 5ms/step - loss: 0.0599 - mse: 0.0599 - accuracy: 0.9240 - val_loss: 0.0544 - val_mse: 0.0544 - val_accuracy: 0.9259\n",
      "Epoch 13/40\n",
      "3551/3551 [==============================] - 18s 5ms/step - loss: 0.0598 - mse: 0.0598 - accuracy: 0.9240 - val_loss: 0.0516 - val_mse: 0.0516 - val_accuracy: 0.9366\n",
      "Epoch 14/40\n",
      "3551/3551 [==============================] - 18s 5ms/step - loss: 0.0527 - mse: 0.0527 - accuracy: 0.9383 - val_loss: 0.0450 - val_mse: 0.0450 - val_accuracy: 0.9414\n",
      "Epoch 15/40\n",
      "3551/3551 [==============================] - 18s 5ms/step - loss: 0.0509 - mse: 0.0509 - accuracy: 0.9369 - val_loss: 0.0479 - val_mse: 0.0479 - val_accuracy: 0.9396\n",
      "Epoch 16/40\n",
      "3551/3551 [==============================] - 18s 5ms/step - loss: 0.0483 - mse: 0.0483 - accuracy: 0.9431 - val_loss: 0.0405 - val_mse: 0.0405 - val_accuracy: 0.9498\n",
      "Epoch 17/40\n",
      "3551/3551 [==============================] - 18s 5ms/step - loss: 0.0439 - mse: 0.0439 - accuracy: 0.9502 - val_loss: 0.0365 - val_mse: 0.0365 - val_accuracy: 0.9534\n",
      "Epoch 18/40\n",
      "3551/3551 [==============================] - 18s 5ms/step - loss: 0.0455 - mse: 0.0455 - accuracy: 0.9462 - val_loss: 0.0367 - val_mse: 0.0367 - val_accuracy: 0.9504\n",
      "Epoch 19/40\n",
      "3551/3551 [==============================] - 18s 5ms/step - loss: 0.0432 - mse: 0.0432 - accuracy: 0.9482 - val_loss: 0.0373 - val_mse: 0.0373 - val_accuracy: 0.9552\n",
      "Epoch 20/40\n",
      "3551/3551 [==============================] - 18s 5ms/step - loss: 0.0385 - mse: 0.0385 - accuracy: 0.9564 - val_loss: 0.0299 - val_mse: 0.0299 - val_accuracy: 0.9665\n",
      "Epoch 21/40\n",
      "3551/3551 [==============================] - 18s 5ms/step - loss: 0.0344 - mse: 0.0344 - accuracy: 0.9620 - val_loss: 0.0328 - val_mse: 0.0328 - val_accuracy: 0.9600\n",
      "Epoch 22/40\n",
      "3551/3551 [==============================] - 19s 5ms/step - loss: 0.0319 - mse: 0.0319 - accuracy: 0.9651 - val_loss: 0.0274 - val_mse: 0.0274 - val_accuracy: 0.9695\n",
      "Epoch 23/40\n",
      "3551/3551 [==============================] - 18s 5ms/step - loss: 0.0291 - mse: 0.0291 - accuracy: 0.9685 - val_loss: 0.0241 - val_mse: 0.0241 - val_accuracy: 0.9743\n",
      "Epoch 24/40\n",
      "3551/3551 [==============================] - 18s 5ms/step - loss: 0.0324 - mse: 0.0324 - accuracy: 0.9648 - val_loss: 0.0253 - val_mse: 0.0253 - val_accuracy: 0.9713\n",
      "Epoch 25/40\n",
      "3551/3551 [==============================] - 18s 5ms/step - loss: 0.0272 - mse: 0.0272 - accuracy: 0.9699 - val_loss: 0.0294 - val_mse: 0.0294 - val_accuracy: 0.9611\n",
      "Epoch 26/40\n",
      "3551/3551 [==============================] - 18s 5ms/step - loss: 0.0250 - mse: 0.0250 - accuracy: 0.9747 - val_loss: 0.0206 - val_mse: 0.0206 - val_accuracy: 0.9809\n",
      "Epoch 27/40\n",
      "3551/3551 [==============================] - 18s 5ms/step - loss: 0.0229 - mse: 0.0229 - accuracy: 0.9755 - val_loss: 0.0258 - val_mse: 0.0258 - val_accuracy: 0.9683\n",
      "Epoch 28/40\n",
      "3551/3551 [==============================] - 18s 5ms/step - loss: 0.0242 - mse: 0.0242 - accuracy: 0.9755 - val_loss: 0.0326 - val_mse: 0.0326 - val_accuracy: 0.9546\n",
      "Epoch 29/40\n",
      "3551/3551 [==============================] - 18s 5ms/step - loss: 0.0209 - mse: 0.0209 - accuracy: 0.9803 - val_loss: 0.0172 - val_mse: 0.0172 - val_accuracy: 0.9815\n",
      "Epoch 30/40\n",
      "3551/3551 [==============================] - 18s 5ms/step - loss: 0.0190 - mse: 0.0190 - accuracy: 0.9834 - val_loss: 0.0152 - val_mse: 0.0152 - val_accuracy: 0.9839\n",
      "Epoch 31/40\n",
      "3551/3551 [==============================] - 18s 5ms/step - loss: 0.0169 - mse: 0.0169 - accuracy: 0.9845 - val_loss: 0.0137 - val_mse: 0.0137 - val_accuracy: 0.9851\n",
      "Epoch 32/40\n",
      "3551/3551 [==============================] - 18s 5ms/step - loss: 0.0164 - mse: 0.0164 - accuracy: 0.9839 - val_loss: 0.0144 - val_mse: 0.0144 - val_accuracy: 0.9868\n",
      "Epoch 33/40\n",
      "3551/3551 [==============================] - 18s 5ms/step - loss: 0.0161 - mse: 0.0161 - accuracy: 0.9862 - val_loss: 0.0171 - val_mse: 0.0171 - val_accuracy: 0.9827\n",
      "Epoch 34/40\n",
      "3551/3551 [==============================] - 18s 5ms/step - loss: 0.0214 - mse: 0.0214 - accuracy: 0.9789 - val_loss: 0.0229 - val_mse: 0.0229 - val_accuracy: 0.9719\n",
      "Epoch 35/40\n",
      "3551/3551 [==============================] - 18s 5ms/step - loss: 0.0181 - mse: 0.0181 - accuracy: 0.9828 - val_loss: 0.0132 - val_mse: 0.0132 - val_accuracy: 0.9868\n",
      "Epoch 36/40\n",
      "3551/3551 [==============================] - 18s 5ms/step - loss: 0.0149 - mse: 0.0149 - accuracy: 0.9865 - val_loss: 0.0204 - val_mse: 0.0204 - val_accuracy: 0.9779\n",
      "Epoch 37/40\n",
      "3551/3551 [==============================] - 18s 5ms/step - loss: 0.0293 - mse: 0.0293 - accuracy: 0.9699 - val_loss: 0.0182 - val_mse: 0.0182 - val_accuracy: 0.9791\n",
      "Epoch 38/40\n",
      "3551/3551 [==============================] - 18s 5ms/step - loss: 0.0162 - mse: 0.0162 - accuracy: 0.9848 - val_loss: 0.0136 - val_mse: 0.0136 - val_accuracy: 0.9868\n",
      "Epoch 39/40\n",
      "3551/3551 [==============================] - 18s 5ms/step - loss: 0.0138 - mse: 0.0138 - accuracy: 0.9876 - val_loss: 0.0114 - val_mse: 0.0114 - val_accuracy: 0.9874\n",
      "Epoch 40/40\n",
      "3551/3551 [==============================] - 18s 5ms/step - loss: 0.0135 - mse: 0.0135 - accuracy: 0.9876 - val_loss: 0.0117 - val_mse: 0.0117 - val_accuracy: 0.9874\n"
     ]
    },
    {
     "data": {
      "image/png": "[encoded data removed]",
      "text/plain": [
       "<Figure size 432x288 with 1 Axes>"
      ]
     },
     "metadata": {
      "needs_background": "light"
     },
     "output_type": "display_data"
    },
    {
     "name": "stdout",
     "output_type": "stream",
     "text": [
      "3400/3400 [==============================] - 10s 3ms/step\n",
      "mean_squared_error[0.04310781772221055, 0.04310781508684158, 0.9529411792755127]\n"
     ]
    }
   ],
   "source": [
    "loss = 'mean_squared_error'\n",
    "model = getLossModel(train_X, train_y, loss)\n",
    "test_mse = model.evaluate(test_X, test_y, verbose=1)\n",
    "print(loss + str(test_mse))"
   ]
  },
  {
   "cell_type": "markdown",
   "metadata": {},
   "source": [
    "# Results"
   ]
  },
  {
   "cell_type": "code",
   "execution_count": 8,
   "metadata": {},
   "outputs": [],
   "source": [
    "from sklearn.metrics import classification_report, confusion_matrix\n",
    "import itertools"
   ]
  },
  {
   "cell_type": "code",
   "execution_count": 9,
   "metadata": {},
   "outputs": [],
   "source": [
    "def plot_confusion_matrix(cm, classes,\n",
    "                          normalize=False,\n",
    "                          title='Confusion matrix',\n",
    "                          cmap=plt.cm.Blues):\n",
    "    \"\"\"\n",
    "    This function prints and plots the confusion matrix.\n",
    "    Normalization can be applied by setting `normalize=True`.\n",
    "    \"\"\"\n",
    "    plt.imshow(cm, interpolation='nearest', cmap=cmap)\n",
    "    plt.title(title)\n",
    "    plt.colorbar()\n",
    "    tick_marks = np.arange(len(classes))\n",
    "    plt.xticks(tick_marks, classes, rotation=45)\n",
    "    plt.yticks(tick_marks, classes)\n",
    "\n",
    "    if normalize:\n",
    "        cm = cm.astype('float') / cm.sum(axis=1)[:, np.newaxis]\n",
    "\n",
    "    print(cm)\n",
    "\n",
    "    thresh = cm.max() / 2.\n",
    "    for i, j in itertools.product(range(cm.shape[0]), range(cm.shape[1])):\n",
    "        plt.text(j, i, cm[i, j],\n",
    "                 horizontalalignment=\"center\",\n",
    "                 color=\"white\" if cm[i, j] > thresh else \"black\")\n",
    "\n",
    "    plt.tight_layout()\n",
    "    plt.ylabel('True label')\n",
    "    plt.xlabel('Predicted label')"
   ]
  },
  {
   "cell_type": "code",
   "execution_count": 106,
   "metadata": {},
   "outputs": [
    {
     "name": "stdout",
     "output_type": "stream",
     "text": [
      "Confusion Matrix\n",
      "[[ 540   79]\n",
      " [  81 2700]]\n",
      "Classification Report\n",
      "               precision    recall  f1-score   support\n",
      "\n",
      "Not Depressed       0.87      0.87      0.87       619\n",
      "    Depressed       0.97      0.97      0.97      2781\n",
      "\n",
      "     accuracy                           0.95      3400\n",
      "    macro avg       0.92      0.92      0.92      3400\n",
      " weighted avg       0.95      0.95      0.95      3400\n",
      "\n"
     ]
    },
    {
     "data": {
      "image/png": "[encoded data removed]",
      "text/plain": [
       "<Figure size 432x288 with 2 Axes>"
      ]
     },
     "metadata": {
      "needs_background": "light"
     },
     "output_type": "display_data"
    }
   ],
   "source": [
    "num_of_test_samples = 3400\n",
    "batch_size = 120\n",
    "y_pred = model.predict_classes(test_X, num_of_test_samples // batch_size+1)\n",
    "print('Confusion Matrix')\n",
    "cm = confusion_matrix(test_y, y_pred)\n",
    "target_names = ['Not Depressed', 'Depressed']\n",
    "plot_confusion_matrix(cm, classes=target_names, title='Confusion Matrix')\n",
    "print('Classification Report')\n",
    "print(classification_report(test_y, y_pred, target_names=target_names))"
   ]
  },
  {
   "cell_type": "markdown",
   "metadata": {},
   "source": [
    "# Model 2"
   ]
  },
  {
   "cell_type": "code",
   "execution_count": 134,
   "metadata": {},
   "outputs": [],
   "source": [
    "def createLSTM2(X_data, loss):\n",
    "    model = Sequential()\n",
    "\n",
    "    # layer 1: LSTM\n",
    "    model.add(LSTM(768, input_shape=(X_data.shape[1], X_data.shape[2])\n",
    "                   , return_sequences=False))\n",
    "    \n",
    "    # output\n",
    "    model.add(Dense(1, activation='sigmoid'))\n",
    "    model.compile(loss=loss, optimizer='adam', metrics=['binary_crossentropy', 'accuracy'])\n",
    "    return model"
   ]
  },
  {
   "cell_type": "code",
   "execution_count": 135,
   "metadata": {},
   "outputs": [],
   "source": [
    "def getLossModel2(train_X, train_y, loss):\n",
    "    model = createLSTM2(train_X, loss)\n",
    "    # fit network\n",
    "    history = model.fit(train_X, train_y, epochs=40, batch_size=120, validation_data=(val_X, val_y))\n",
    "\n",
    "    # plot history\n",
    "    plt.plot(history.history['loss'], label='train')\n",
    "    plt.legend()\n",
    "    plt.show()\n",
    "\n",
    "    return model"
   ]
  },
  {
   "cell_type": "code",
   "execution_count": 136,
   "metadata": {},
   "outputs": [
    {
     "name": "stdout",
     "output_type": "stream",
     "text": [
      "Train on 3551 samples, validate on 1673 samples\n",
      "Epoch 1/40\n",
      "3551/3551 [==============================] - 25s 7ms/step - loss: 0.4966 - binary_crossentropy: 0.4966 - accuracy: 0.7972 - val_loss: 0.4633 - val_binary_crossentropy: 0.4633 - val_accuracy: 0.8183\n",
      "Epoch 2/40\n",
      "3551/3551 [==============================] - 27s 7ms/step - loss: 0.4676 - binary_crossentropy: 0.4676 - accuracy: 0.8178 - val_loss: 0.4692 - val_binary_crossentropy: 0.4692 - val_accuracy: 0.8183\n",
      "Epoch 3/40\n",
      "3551/3551 [==============================] - 27s 8ms/step - loss: 0.4598 - binary_crossentropy: 0.4598 - accuracy: 0.8184 - val_loss: 0.4356 - val_binary_crossentropy: 0.4356 - val_accuracy: 0.8183\n",
      "Epoch 4/40\n",
      "3551/3551 [==============================] - 27s 8ms/step - loss: 0.3940 - binary_crossentropy: 0.3940 - accuracy: 0.8234 - val_loss: 0.3657 - val_binary_crossentropy: 0.3657 - val_accuracy: 0.8201\n",
      "Epoch 5/40\n",
      "3551/3551 [==============================] - 28s 8ms/step - loss: 0.3595 - binary_crossentropy: 0.3595 - accuracy: 0.8344 - val_loss: 0.3355 - val_binary_crossentropy: 0.3355 - val_accuracy: 0.8655\n",
      "Epoch 6/40\n",
      "3551/3551 [==============================] - 28s 8ms/step - loss: 0.2811 - binary_crossentropy: 0.2811 - accuracy: 0.8879 - val_loss: 0.2541 - val_binary_crossentropy: 0.2541 - val_accuracy: 0.9032\n",
      "Epoch 7/40\n",
      "3551/3551 [==============================] - 28s 8ms/step - loss: 0.2343 - binary_crossentropy: 0.2343 - accuracy: 0.9088 - val_loss: 0.2016 - val_binary_crossentropy: 0.2016 - val_accuracy: 0.9199\n",
      "Epoch 8/40\n",
      "3551/3551 [==============================] - 28s 8ms/step - loss: 0.1969 - binary_crossentropy: 0.1969 - accuracy: 0.9262 - val_loss: 0.1815 - val_binary_crossentropy: 0.1815 - val_accuracy: 0.9307\n",
      "Epoch 9/40\n",
      "3551/3551 [==============================] - 29s 8ms/step - loss: 0.1830 - binary_crossentropy: 0.1830 - accuracy: 0.9285 - val_loss: 0.1779 - val_binary_crossentropy: 0.1779 - val_accuracy: 0.9301\n",
      "Epoch 10/40\n",
      "3551/3551 [==============================] - 29s 8ms/step - loss: 0.1958 - binary_crossentropy: 0.1958 - accuracy: 0.9175 - val_loss: 0.1759 - val_binary_crossentropy: 0.1759 - val_accuracy: 0.9307\n",
      "Epoch 11/40\n",
      "3551/3551 [==============================] - 28s 8ms/step - loss: 0.1714 - binary_crossentropy: 0.1714 - accuracy: 0.9389 - val_loss: 0.1615 - val_binary_crossentropy: 0.1615 - val_accuracy: 0.9414\n",
      "Epoch 12/40\n",
      "3551/3551 [==============================] - 28s 8ms/step - loss: 0.1553 - binary_crossentropy: 0.1553 - accuracy: 0.9440 - val_loss: 0.1453 - val_binary_crossentropy: 0.1453 - val_accuracy: 0.9462\n",
      "Epoch 13/40\n",
      "3551/3551 [==============================] - 28s 8ms/step - loss: 0.1483 - binary_crossentropy: 0.1483 - accuracy: 0.9462 - val_loss: 0.1328 - val_binary_crossentropy: 0.1328 - val_accuracy: 0.9522\n",
      "Epoch 14/40\n",
      "3551/3551 [==============================] - 28s 8ms/step - loss: 0.1293 - binary_crossentropy: 0.1293 - accuracy: 0.9547 - val_loss: 0.1192 - val_binary_crossentropy: 0.1192 - val_accuracy: 0.9600\n",
      "Epoch 15/40\n",
      "3551/3551 [==============================] - 29s 8ms/step - loss: 0.1128 - binary_crossentropy: 0.1128 - accuracy: 0.9583 - val_loss: 0.1075 - val_binary_crossentropy: 0.1075 - val_accuracy: 0.9665\n",
      "Epoch 16/40\n",
      "3551/3551 [==============================] - 30s 8ms/step - loss: 0.1375 - binary_crossentropy: 0.1375 - accuracy: 0.9473 - val_loss: 0.1888 - val_binary_crossentropy: 0.1888 - val_accuracy: 0.9301\n",
      "Epoch 17/40\n",
      "3551/3551 [==============================] - 29s 8ms/step - loss: 0.1536 - binary_crossentropy: 0.1536 - accuracy: 0.9397 - val_loss: 0.1166 - val_binary_crossentropy: 0.1166 - val_accuracy: 0.9605\n",
      "Epoch 18/40\n",
      "3551/3551 [==============================] - 28s 8ms/step - loss: 0.1361 - binary_crossentropy: 0.1361 - accuracy: 0.9499 - val_loss: 0.1347 - val_binary_crossentropy: 0.1347 - val_accuracy: 0.9498\n",
      "Epoch 19/40\n",
      "3551/3551 [==============================] - 32s 9ms/step - loss: 0.1198 - binary_crossentropy: 0.1198 - accuracy: 0.9558 - val_loss: 0.1052 - val_binary_crossentropy: 0.1052 - val_accuracy: 0.9641\n",
      "Epoch 20/40\n",
      "3551/3551 [==============================] - 29s 8ms/step - loss: 0.0925 - binary_crossentropy: 0.0925 - accuracy: 0.9662 - val_loss: 0.0820 - val_binary_crossentropy: 0.0820 - val_accuracy: 0.9755\n",
      "Epoch 21/40\n",
      "3551/3551 [==============================] - 28s 8ms/step - loss: 0.0744 - binary_crossentropy: 0.0744 - accuracy: 0.9749 - val_loss: 0.0552 - val_binary_crossentropy: 0.0552 - val_accuracy: 0.9833\n",
      "Epoch 22/40\n",
      "3551/3551 [==============================] - 30s 8ms/step - loss: 0.0556 - binary_crossentropy: 0.0556 - accuracy: 0.9839 - val_loss: 0.0397 - val_binary_crossentropy: 0.0397 - val_accuracy: 0.9910\n",
      "Epoch 23/40\n",
      "3551/3551 [==============================] - 29s 8ms/step - loss: 0.0574 - binary_crossentropy: 0.0574 - accuracy: 0.9811 - val_loss: 0.1504 - val_binary_crossentropy: 0.1504 - val_accuracy: 0.9265\n",
      "Epoch 24/40\n",
      "3551/3551 [==============================] - 29s 8ms/step - loss: 0.0909 - binary_crossentropy: 0.0909 - accuracy: 0.9687 - val_loss: 0.0587 - val_binary_crossentropy: 0.0587 - val_accuracy: 0.9779\n",
      "Epoch 25/40\n",
      "3551/3551 [==============================] - 29s 8ms/step - loss: 0.0418 - binary_crossentropy: 0.0418 - accuracy: 0.9876 - val_loss: 0.0368 - val_binary_crossentropy: 0.0368 - val_accuracy: 0.9892\n",
      "Epoch 26/40\n",
      "3551/3551 [==============================] - 30s 8ms/step - loss: 0.0370 - binary_crossentropy: 0.0370 - accuracy: 0.9893 - val_loss: 0.0371 - val_binary_crossentropy: 0.0371 - val_accuracy: 0.9892\n",
      "Epoch 27/40\n",
      "3551/3551 [==============================] - 29s 8ms/step - loss: 0.0277 - binary_crossentropy: 0.0277 - accuracy: 0.9924 - val_loss: 0.0245 - val_binary_crossentropy: 0.0245 - val_accuracy: 0.9952\n",
      "Epoch 28/40\n",
      "3551/3551 [==============================] - 29s 8ms/step - loss: 0.0317 - binary_crossentropy: 0.0317 - accuracy: 0.9893 - val_loss: 0.0217 - val_binary_crossentropy: 0.0217 - val_accuracy: 0.9958\n",
      "Epoch 29/40\n",
      "3551/3551 [==============================] - 29s 8ms/step - loss: 0.0155 - binary_crossentropy: 0.0155 - accuracy: 0.9966 - val_loss: 0.0205 - val_binary_crossentropy: 0.0205 - val_accuracy: 0.9952\n",
      "Epoch 30/40\n",
      "3551/3551 [==============================] - 29s 8ms/step - loss: 0.0391 - binary_crossentropy: 0.0391 - accuracy: 0.9868 - val_loss: 0.0189 - val_binary_crossentropy: 0.0189 - val_accuracy: 0.9976\n",
      "Epoch 31/40\n",
      "3551/3551 [==============================] - 29s 8ms/step - loss: 0.0130 - binary_crossentropy: 0.0130 - accuracy: 0.9977 - val_loss: 0.0105 - val_binary_crossentropy: 0.0105 - val_accuracy: 0.9976\n",
      "Epoch 32/40\n",
      "3551/3551 [==============================] - 28s 8ms/step - loss: 0.0064 - binary_crossentropy: 0.0064 - accuracy: 0.9986 - val_loss: 0.0062 - val_binary_crossentropy: 0.0062 - val_accuracy: 0.9982\n",
      "Epoch 33/40\n",
      "3551/3551 [==============================] - 29s 8ms/step - loss: 0.0053 - binary_crossentropy: 0.0053 - accuracy: 0.9992 - val_loss: 0.0060 - val_binary_crossentropy: 0.0060 - val_accuracy: 0.9982\n",
      "Epoch 34/40\n",
      "3551/3551 [==============================] - 30s 8ms/step - loss: 0.0035 - binary_crossentropy: 0.0035 - accuracy: 0.9992 - val_loss: 0.0056 - val_binary_crossentropy: 0.0056 - val_accuracy: 0.9994\n",
      "Epoch 35/40\n",
      "3551/3551 [==============================] - 30s 9ms/step - loss: 0.0045 - binary_crossentropy: 0.0045 - accuracy: 0.9986 - val_loss: 0.0208 - val_binary_crossentropy: 0.0208 - val_accuracy: 0.9934\n",
      "Epoch 36/40\n",
      "3551/3551 [==============================] - 30s 8ms/step - loss: 0.0210 - binary_crossentropy: 0.0210 - accuracy: 0.9935 - val_loss: 0.0136 - val_binary_crossentropy: 0.0136 - val_accuracy: 0.9976\n",
      "Epoch 37/40\n",
      "3551/3551 [==============================] - 30s 8ms/step - loss: 0.0140 - binary_crossentropy: 0.0140 - accuracy: 0.9963 - val_loss: 0.0090 - val_binary_crossentropy: 0.0090 - val_accuracy: 0.9976\n",
      "Epoch 38/40\n",
      "3551/3551 [==============================] - 30s 8ms/step - loss: 0.0039 - binary_crossentropy: 0.0039 - accuracy: 0.9994 - val_loss: 0.0021 - val_binary_crossentropy: 0.0021 - val_accuracy: 0.9994\n",
      "Epoch 39/40\n",
      "3551/3551 [==============================] - 29s 8ms/step - loss: 0.0029 - binary_crossentropy: 0.0029 - accuracy: 0.9994 - val_loss: 0.0025 - val_binary_crossentropy: 0.0025 - val_accuracy: 0.9994\n"
     ]
    },
    {
     "name": "stdout",
     "output_type": "stream",
     "text": [
      "Epoch 40/40\n",
      "3551/3551 [==============================] - 29s 8ms/step - loss: 0.0019 - binary_crossentropy: 0.0019 - accuracy: 0.9997 - val_loss: 0.0030 - val_binary_crossentropy: 0.0030 - val_accuracy: 0.9982\n"
     ]
    },
    {
     "data": {
      "image/png": "[encoded data removed]",
      "text/plain": [
       "<Figure size 432x288 with 1 Axes>"
      ]
     },
     "metadata": {
      "needs_background": "light"
     },
     "output_type": "display_data"
    },
    {
     "name": "stdout",
     "output_type": "stream",
     "text": [
      "3400/3400 [==============================] - 12s 3ms/step\n",
      "binary_crossentropy[0.28128440806833915, 0.2812844514846802, 0.9529411792755127]\n"
     ]
    }
   ],
   "source": [
    "loss = 'binary_crossentropy'\n",
    "model = getLossModel2(train_X, train_y, loss)\n",
    "test_mse = model.evaluate(test_X, test_y, verbose=1)\n",
    "print(loss + str(test_mse))"
   ]
  },
  {
   "cell_type": "code",
   "execution_count": 137,
   "metadata": {},
   "outputs": [
    {
     "name": "stdout",
     "output_type": "stream",
     "text": [
      "Confusion Matrix\n",
      "[[ 572   47]\n",
      " [ 113 2668]]\n",
      "Classification Report\n",
      "               precision    recall  f1-score   support\n",
      "\n",
      "Not Depressed       0.84      0.92      0.88       619\n",
      "    Depressed       0.98      0.96      0.97      2781\n",
      "\n",
      "     accuracy                           0.95      3400\n",
      "    macro avg       0.91      0.94      0.92      3400\n",
      " weighted avg       0.96      0.95      0.95      3400\n",
      "\n"
     ]
    },
    {
     "data": {
      "image/png": "[encoded data removed]",
      "text/plain": [
       "<Figure size 432x288 with 2 Axes>"
      ]
     },
     "metadata": {
      "needs_background": "light"
     },
     "output_type": "display_data"
    }
   ],
   "source": [
    "num_of_test_samples = 3400\n",
    "batch_size = 120\n",
    "y_pred = model.predict_classes(test_X, num_of_test_samples // batch_size+1)\n",
    "print('Confusion Matrix')\n",
    "cm = confusion_matrix(test_y, y_pred)\n",
    "target_names = ['Not Depressed', 'Depressed']\n",
    "plot_confusion_matrix(cm, classes=target_names, title='Confusion Matrix')\n",
    "print('Classification Report')\n",
    "print(classification_report(test_y, y_pred, target_names=target_names))"
   ]
  },
  {
   "cell_type": "markdown",
   "metadata": {},
   "source": [
    "# Test Model 1 & 2 on Historical Data"
   ]
  },
  {
   "cell_type": "markdown",
   "metadata": {},
   "source": [
    "## Remove Depressed Post"
   ]
  },
  {
   "cell_type": "code",
   "execution_count": 24,
   "metadata": {},
   "outputs": [
    {
     "data": {
      "text/plain": [
       "(3551, 29, 768)"
      ]
     },
     "execution_count": 24,
     "metadata": {},
     "output_type": "execute_result"
    }
   ],
   "source": [
    "train_Xh = train_X[:, 1:]\n",
    "val_Xh = val_X[:, 1:]\n",
    "test_Xh = test_X[:, 1:]\n",
    "train_Xh.shape"
   ]
  },
  {
   "cell_type": "markdown",
   "metadata": {},
   "source": [
    "## Test Historical Data on Model 1"
   ]
  },
  {
   "cell_type": "code",
   "execution_count": 25,
   "metadata": {},
   "outputs": [],
   "source": [
    "def createLSTM(X_data, loss):\n",
    "    model = Sequential()\n",
    "\n",
    "    # layer 1: LSTM\n",
    "    model.add(LSTM(400, input_shape=(X_data.shape[1], X_data.shape[2])\n",
    "                   , return_sequences=True))\n",
    "    model.add(Dropout(0.2))\n",
    "    # layer 2: LSTM\n",
    "    model.add(LSTM(150, return_sequences=False))\n",
    "    model.add(Dropout(0.2))\n",
    "\n",
    "    # output\n",
    "    model.add(Dense(1))\n",
    "    model.compile(loss=loss, optimizer='adam', metrics=['accuracy'])\n",
    "    return model"
   ]
  },
  {
   "cell_type": "code",
   "execution_count": 26,
   "metadata": {},
   "outputs": [],
   "source": [
    "def getLossModel(train_Xh, train_y, loss):\n",
    "    model = createLSTM(train_Xh, loss)\n",
    "    # fit network\n",
    "    history = model.fit(train_Xh, train_y, epochs=40, batch_size=120, validation_data=(val_Xh, val_y))\n",
    "\n",
    "    # plot history\n",
    "    plt.plot(history.history['loss'], label='train')\n",
    "    plt.legend()\n",
    "    plt.show()\n",
    "\n",
    "    return model"
   ]
  },
  {
   "cell_type": "code",
   "execution_count": 27,
   "metadata": {},
   "outputs": [
    {
     "name": "stdout",
     "output_type": "stream",
     "text": [
      "Train on 3551 samples, validate on 1673 samples\n",
      "Epoch 1/40\n",
      "3551/3551 [==============================] - 15s 4ms/step - loss: 0.3264 - accuracy: 0.6908 - val_loss: 0.1566 - val_accuracy: 0.8183\n",
      "Epoch 2/40\n",
      "3551/3551 [==============================] - 14s 4ms/step - loss: 0.1600 - accuracy: 0.8144 - val_loss: 0.1466 - val_accuracy: 0.8183\n",
      "Epoch 3/40\n",
      "3551/3551 [==============================] - 15s 4ms/step - loss: 0.1557 - accuracy: 0.8164 - val_loss: 0.1450 - val_accuracy: 0.8183\n",
      "Epoch 4/40\n",
      "3551/3551 [==============================] - 15s 4ms/step - loss: 0.1426 - accuracy: 0.8158 - val_loss: 0.1283 - val_accuracy: 0.8350\n",
      "Epoch 5/40\n",
      "3551/3551 [==============================] - 16s 4ms/step - loss: 0.1375 - accuracy: 0.8161 - val_loss: 0.1224 - val_accuracy: 0.8279\n",
      "Epoch 6/40\n",
      "3551/3551 [==============================] - 16s 5ms/step - loss: 0.1242 - accuracy: 0.8375 - val_loss: 0.1176 - val_accuracy: 0.8482\n",
      "Epoch 7/40\n",
      "3551/3551 [==============================] - 16s 4ms/step - loss: 0.1190 - accuracy: 0.8403 - val_loss: 0.1126 - val_accuracy: 0.8524\n",
      "Epoch 8/40\n",
      "3551/3551 [==============================] - 16s 4ms/step - loss: 0.1175 - accuracy: 0.8476 - val_loss: 0.1080 - val_accuracy: 0.8607\n",
      "Epoch 9/40\n",
      "3551/3551 [==============================] - 16s 5ms/step - loss: 0.1164 - accuracy: 0.8468 - val_loss: 0.1127 - val_accuracy: 0.8577\n",
      "Epoch 10/40\n",
      "3551/3551 [==============================] - 16s 4ms/step - loss: 0.1116 - accuracy: 0.8567 - val_loss: 0.1161 - val_accuracy: 0.8428\n",
      "Epoch 11/40\n",
      "3551/3551 [==============================] - 16s 5ms/step - loss: 0.1120 - accuracy: 0.8507 - val_loss: 0.1063 - val_accuracy: 0.8524\n",
      "Epoch 12/40\n",
      "3551/3551 [==============================] - 16s 5ms/step - loss: 0.1020 - accuracy: 0.8679 - val_loss: 0.0973 - val_accuracy: 0.8739\n",
      "Epoch 13/40\n",
      "3551/3551 [==============================] - 16s 5ms/step - loss: 0.0974 - accuracy: 0.8786 - val_loss: 0.0930 - val_accuracy: 0.8793\n",
      "Epoch 14/40\n",
      "3551/3551 [==============================] - 16s 4ms/step - loss: 0.0921 - accuracy: 0.8837 - val_loss: 0.0860 - val_accuracy: 0.8912\n",
      "Epoch 15/40\n",
      "3551/3551 [==============================] - 16s 5ms/step - loss: 0.1008 - accuracy: 0.8719 - val_loss: 0.0858 - val_accuracy: 0.8924\n",
      "Epoch 16/40\n",
      "3551/3551 [==============================] - 16s 5ms/step - loss: 0.0876 - accuracy: 0.8910 - val_loss: 0.0791 - val_accuracy: 0.8996\n",
      "Epoch 17/40\n",
      "3551/3551 [==============================] - 16s 5ms/step - loss: 0.0817 - accuracy: 0.9045 - val_loss: 0.1005 - val_accuracy: 0.8589\n",
      "Epoch 18/40\n",
      "3551/3551 [==============================] - 16s 5ms/step - loss: 0.0918 - accuracy: 0.8817 - val_loss: 0.0823 - val_accuracy: 0.8936\n",
      "Epoch 19/40\n",
      "3551/3551 [==============================] - 16s 5ms/step - loss: 0.0806 - accuracy: 0.9006 - val_loss: 0.0654 - val_accuracy: 0.9199\n",
      "Epoch 20/40\n",
      "3551/3551 [==============================] - 16s 5ms/step - loss: 0.0653 - accuracy: 0.9234 - val_loss: 0.0548 - val_accuracy: 0.9366\n",
      "Epoch 21/40\n",
      "3551/3551 [==============================] - 16s 4ms/step - loss: 0.0653 - accuracy: 0.9251 - val_loss: 0.0638 - val_accuracy: 0.9217\n",
      "Epoch 22/40\n",
      "3551/3551 [==============================] - 17s 5ms/step - loss: 0.0593 - accuracy: 0.9355 - val_loss: 0.0535 - val_accuracy: 0.9456\n",
      "Epoch 23/40\n",
      "3551/3551 [==============================] - 16s 4ms/step - loss: 0.0502 - accuracy: 0.9493 - val_loss: 0.0420 - val_accuracy: 0.9534\n",
      "Epoch 24/40\n",
      "3551/3551 [==============================] - 16s 5ms/step - loss: 0.0510 - accuracy: 0.9456 - val_loss: 0.0490 - val_accuracy: 0.9432\n",
      "Epoch 25/40\n",
      "3551/3551 [==============================] - 16s 5ms/step - loss: 0.0478 - accuracy: 0.9504 - val_loss: 0.0438 - val_accuracy: 0.9492\n",
      "Epoch 26/40\n",
      "3551/3551 [==============================] - 16s 5ms/step - loss: 0.0425 - accuracy: 0.9575 - val_loss: 0.0321 - val_accuracy: 0.9665\n",
      "Epoch 27/40\n",
      "3551/3551 [==============================] - 17s 5ms/step - loss: 0.0327 - accuracy: 0.9685 - val_loss: 0.0289 - val_accuracy: 0.9677\n",
      "Epoch 28/40\n",
      "3551/3551 [==============================] - 16s 4ms/step - loss: 0.0428 - accuracy: 0.9561 - val_loss: 0.0324 - val_accuracy: 0.9665\n",
      "Epoch 29/40\n",
      "3551/3551 [==============================] - 17s 5ms/step - loss: 0.0340 - accuracy: 0.9687 - val_loss: 0.0255 - val_accuracy: 0.9743\n",
      "Epoch 30/40\n",
      "3551/3551 [==============================] - 16s 5ms/step - loss: 0.0268 - accuracy: 0.9769 - val_loss: 0.0215 - val_accuracy: 0.9779\n",
      "Epoch 31/40\n",
      "3551/3551 [==============================] - 16s 5ms/step - loss: 0.0270 - accuracy: 0.9775 - val_loss: 0.0215 - val_accuracy: 0.9785\n",
      "Epoch 32/40\n",
      "3551/3551 [==============================] - 18s 5ms/step - loss: 0.0233 - accuracy: 0.9806 - val_loss: 0.0282 - val_accuracy: 0.9689\n",
      "Epoch 33/40\n",
      "3551/3551 [==============================] - 18s 5ms/step - loss: 0.0293 - accuracy: 0.9727 - val_loss: 0.0220 - val_accuracy: 0.9815\n",
      "Epoch 34/40\n",
      "3551/3551 [==============================] - 17s 5ms/step - loss: 0.0219 - accuracy: 0.9825 - val_loss: 0.0180 - val_accuracy: 0.9833\n",
      "Epoch 35/40\n",
      "3551/3551 [==============================] - 17s 5ms/step - loss: 0.0185 - accuracy: 0.9839 - val_loss: 0.0238 - val_accuracy: 0.9779\n",
      "Epoch 36/40\n",
      "3551/3551 [==============================] - 17s 5ms/step - loss: 0.0234 - accuracy: 0.9800 - val_loss: 0.0183 - val_accuracy: 0.9827\n",
      "Epoch 37/40\n",
      "3551/3551 [==============================] - 18s 5ms/step - loss: 0.0212 - accuracy: 0.9831 - val_loss: 0.0152 - val_accuracy: 0.9851\n",
      "Epoch 38/40\n",
      "3551/3551 [==============================] - 16s 5ms/step - loss: 0.0198 - accuracy: 0.9828 - val_loss: 0.0163 - val_accuracy: 0.9839\n",
      "Epoch 39/40\n",
      "3551/3551 [==============================] - 17s 5ms/step - loss: 0.0169 - accuracy: 0.9868 - val_loss: 0.0136 - val_accuracy: 0.9868\n",
      "Epoch 40/40\n",
      "3551/3551 [==============================] - 16s 5ms/step - loss: 0.0241 - accuracy: 0.9775 - val_loss: 0.0196 - val_accuracy: 0.9839\n"
     ]
    },
    {
     "data": {
      "image/png": "[encoded data removed]",
      "text/plain": [
       "<Figure size 432x288 with 1 Axes>"
      ]
     },
     "metadata": {
      "needs_background": "light"
     },
     "output_type": "display_data"
    },
    {
     "name": "stdout",
     "output_type": "stream",
     "text": [
      "3400/3400 [==============================] - 9s 3ms/step\n",
      "mean_squared_error[0.07852765586446313, 0.9176470637321472]\n"
     ]
    }
   ],
   "source": [
    "loss = 'mean_squared_error'\n",
    "model = getLossModel(train_Xh, train_y, loss)\n",
    "test_mse = model.evaluate(test_Xh, test_y, verbose=1)\n",
    "print(loss + str(test_mse))"
   ]
  },
  {
   "cell_type": "code",
   "execution_count": 28,
   "metadata": {},
   "outputs": [
    {
     "name": "stdout",
     "output_type": "stream",
     "text": [
      "Confusion Matrix\n",
      "[[ 424  195]\n",
      " [  84 2697]]\n",
      "Classification Report\n",
      "               precision    recall  f1-score   support\n",
      "\n",
      "Not Depressed       0.83      0.68      0.75       619\n",
      "    Depressed       0.93      0.97      0.95      2781\n",
      "\n",
      "     accuracy                           0.92      3400\n",
      "    macro avg       0.88      0.83      0.85      3400\n",
      " weighted avg       0.91      0.92      0.91      3400\n",
      "\n"
     ]
    },
    {
     "data": {
      "image/png": "[encoded data removed]",
      "text/plain": [
       "<Figure size 432x288 with 2 Axes>"
      ]
     },
     "metadata": {
      "needs_background": "light"
     },
     "output_type": "display_data"
    }
   ],
   "source": [
    "num_of_test_samples = 3400\n",
    "batch_size = 120\n",
    "y_pred = model.predict_classes(test_Xh, num_of_test_samples // batch_size+1)\n",
    "print('Confusion Matrix')\n",
    "cm = confusion_matrix(test_y, y_pred)\n",
    "target_names = ['Not Depressed', 'Depressed']\n",
    "plot_confusion_matrix(cm, classes=target_names, title='Confusion Matrix')\n",
    "print('Classification Report')\n",
    "print(classification_report(test_y, y_pred, target_names=target_names))"
   ]
  },
  {
   "cell_type": "markdown",
   "metadata": {},
   "source": [
    "## Test Historical Data on Model 2"
   ]
  },
  {
   "cell_type": "code",
   "execution_count": 32,
   "metadata": {},
   "outputs": [],
   "source": [
    "def createLSTM2(X_data, loss):\n",
    "    model = Sequential()\n",
    "\n",
    "    # layer 1: LSTM\n",
    "    model.add(LSTM(768, input_shape=(X_data.shape[1], X_data.shape[2])\n",
    "                   , return_sequences=False))\n",
    "    \n",
    "    # output\n",
    "    model.add(Dense(1, activation='sigmoid'))\n",
    "    model.compile(loss=loss, optimizer='adam', metrics=['accuracy'])\n",
    "    return model"
   ]
  },
  {
   "cell_type": "code",
   "execution_count": 33,
   "metadata": {},
   "outputs": [],
   "source": [
    "def getLossModel2(train_Xh, train_y, loss):\n",
    "    model = createLSTM2(train_Xh, loss)\n",
    "    # fit network\n",
    "    history = model.fit(train_Xh, train_y, epochs=40, batch_size=120, validation_data=(val_Xh, val_y))\n",
    "\n",
    "    # plot history\n",
    "    plt.plot(history.history['loss'], label='train')\n",
    "    plt.legend()\n",
    "    plt.show()\n",
    "\n",
    "    return model"
   ]
  },
  {
   "cell_type": "code",
   "execution_count": 34,
   "metadata": {},
   "outputs": [
    {
     "name": "stdout",
     "output_type": "stream",
     "text": [
      "Train on 3551 samples, validate on 1673 samples\n",
      "Epoch 1/40\n",
      "3551/3551 [==============================] - 24s 7ms/step - loss: 0.4976 - accuracy: 0.8167 - val_loss: 0.4633 - val_accuracy: 0.8183\n",
      "Epoch 2/40\n",
      "3551/3551 [==============================] - 25s 7ms/step - loss: 0.4548 - accuracy: 0.8181 - val_loss: 0.4171 - val_accuracy: 0.8129\n",
      "Epoch 3/40\n",
      "3551/3551 [==============================] - 26s 7ms/step - loss: 0.4644 - accuracy: 0.8181 - val_loss: 0.4438 - val_accuracy: 0.8183\n",
      "Epoch 4/40\n",
      "3551/3551 [==============================] - 26s 7ms/step - loss: 0.4224 - accuracy: 0.8217 - val_loss: 0.4137 - val_accuracy: 0.8183\n",
      "Epoch 5/40\n",
      "3551/3551 [==============================] - 27s 8ms/step - loss: 0.3907 - accuracy: 0.8279 - val_loss: 0.4951 - val_accuracy: 0.7370\n",
      "Epoch 6/40\n",
      "3551/3551 [==============================] - 27s 8ms/step - loss: 0.3942 - accuracy: 0.8299 - val_loss: 0.3788 - val_accuracy: 0.8458\n",
      "Epoch 7/40\n",
      "3551/3551 [==============================] - 27s 8ms/step - loss: 0.3637 - accuracy: 0.8434 - val_loss: 0.3624 - val_accuracy: 0.8518\n",
      "Epoch 8/40\n",
      "3551/3551 [==============================] - 27s 8ms/step - loss: 0.3636 - accuracy: 0.8437 - val_loss: 0.3519 - val_accuracy: 0.8559\n",
      "Epoch 9/40\n",
      "3551/3551 [==============================] - 27s 8ms/step - loss: 0.3453 - accuracy: 0.8558 - val_loss: 0.3416 - val_accuracy: 0.8577\n",
      "Epoch 10/40\n",
      "3551/3551 [==============================] - 28s 8ms/step - loss: 0.3359 - accuracy: 0.8547 - val_loss: 0.3268 - val_accuracy: 0.8709\n",
      "Epoch 11/40\n",
      "3551/3551 [==============================] - 28s 8ms/step - loss: 0.3223 - accuracy: 0.8707 - val_loss: 0.3102 - val_accuracy: 0.8709\n",
      "Epoch 12/40\n",
      "3551/3551 [==============================] - 27s 8ms/step - loss: 0.3083 - accuracy: 0.8755 - val_loss: 0.2920 - val_accuracy: 0.8805\n",
      "Epoch 13/40\n",
      "3551/3551 [==============================] - 28s 8ms/step - loss: 0.2997 - accuracy: 0.8817 - val_loss: 0.2814 - val_accuracy: 0.8888\n",
      "Epoch 14/40\n",
      "3551/3551 [==============================] - 28s 8ms/step - loss: 0.2823 - accuracy: 0.8905 - val_loss: 0.2860 - val_accuracy: 0.8858\n",
      "Epoch 15/40\n",
      "3551/3551 [==============================] - 27s 8ms/step - loss: 0.2512 - accuracy: 0.9034 - val_loss: 0.2127 - val_accuracy: 0.9223\n",
      "Epoch 16/40\n",
      "3551/3551 [==============================] - 27s 8ms/step - loss: 0.2360 - accuracy: 0.9045 - val_loss: 0.1986 - val_accuracy: 0.9289\n",
      "Epoch 17/40\n",
      "3551/3551 [==============================] - 28s 8ms/step - loss: 0.1959 - accuracy: 0.9313 - val_loss: 0.1467 - val_accuracy: 0.9474\n",
      "Epoch 18/40\n",
      "3551/3551 [==============================] - 28s 8ms/step - loss: 0.1585 - accuracy: 0.9437 - val_loss: 0.1098 - val_accuracy: 0.9707\n",
      "Epoch 19/40\n",
      "3551/3551 [==============================] - 26s 7ms/step - loss: 0.1299 - accuracy: 0.9566 - val_loss: 0.1384 - val_accuracy: 0.9647\n",
      "Epoch 20/40\n",
      "3551/3551 [==============================] - 27s 7ms/step - loss: 0.1077 - accuracy: 0.9662 - val_loss: 0.0741 - val_accuracy: 0.9815\n",
      "Epoch 21/40\n",
      "3551/3551 [==============================] - 27s 8ms/step - loss: 0.0658 - accuracy: 0.9797 - val_loss: 0.0372 - val_accuracy: 0.9934\n",
      "Epoch 22/40\n",
      "3551/3551 [==============================] - 26s 7ms/step - loss: 0.0660 - accuracy: 0.9769 - val_loss: 0.0584 - val_accuracy: 0.9892\n",
      "Epoch 23/40\n",
      "3551/3551 [==============================] - 26s 7ms/step - loss: 0.0633 - accuracy: 0.9778 - val_loss: 0.0359 - val_accuracy: 0.9904\n",
      "Epoch 24/40\n",
      "3551/3551 [==============================] - 27s 8ms/step - loss: 0.0325 - accuracy: 0.9927 - val_loss: 0.0277 - val_accuracy: 0.9940\n",
      "Epoch 25/40\n",
      "3551/3551 [==============================] - 27s 8ms/step - loss: 0.0309 - accuracy: 0.9924 - val_loss: 0.0282 - val_accuracy: 0.9934\n",
      "Epoch 26/40\n",
      "3551/3551 [==============================] - 27s 8ms/step - loss: 0.0292 - accuracy: 0.9924 - val_loss: 0.0234 - val_accuracy: 0.9946\n",
      "Epoch 27/40\n",
      "3551/3551 [==============================] - 49s 14ms/step - loss: 0.0359 - accuracy: 0.9885 - val_loss: 0.0509 - val_accuracy: 0.9868\n",
      "Epoch 28/40\n",
      "3551/3551 [==============================] - 28s 8ms/step - loss: 0.0399 - accuracy: 0.9873 - val_loss: 0.0187 - val_accuracy: 0.9958\n",
      "Epoch 29/40\n",
      "3551/3551 [==============================] - 27s 8ms/step - loss: 0.0295 - accuracy: 0.9910 - val_loss: 0.0230 - val_accuracy: 0.9934\n",
      "Epoch 30/40\n",
      "3551/3551 [==============================] - 27s 7ms/step - loss: 0.0225 - accuracy: 0.9949 - val_loss: 0.0106 - val_accuracy: 0.9988\n",
      "Epoch 31/40\n",
      "3551/3551 [==============================] - 27s 8ms/step - loss: 0.0122 - accuracy: 0.9972 - val_loss: 0.0202 - val_accuracy: 0.9934\n",
      "Epoch 32/40\n",
      "3551/3551 [==============================] - 27s 8ms/step - loss: 0.0121 - accuracy: 0.9969 - val_loss: 0.0145 - val_accuracy: 0.9958\n",
      "Epoch 33/40\n",
      "3551/3551 [==============================] - 27s 8ms/step - loss: 0.0096 - accuracy: 0.9975 - val_loss: 0.0090 - val_accuracy: 0.9988\n",
      "Epoch 34/40\n",
      "3551/3551 [==============================] - 28s 8ms/step - loss: 0.0453 - accuracy: 0.9856 - val_loss: 0.0457 - val_accuracy: 0.9868\n",
      "Epoch 35/40\n",
      "3551/3551 [==============================] - 28s 8ms/step - loss: 0.0241 - accuracy: 0.9938 - val_loss: 0.0131 - val_accuracy: 0.9976\n",
      "Epoch 36/40\n",
      "3551/3551 [==============================] - 28s 8ms/step - loss: 0.0077 - accuracy: 0.9986 - val_loss: 0.0072 - val_accuracy: 0.9988\n",
      "Epoch 37/40\n",
      "3551/3551 [==============================] - 27s 8ms/step - loss: 0.0091 - accuracy: 0.9975 - val_loss: 0.0092 - val_accuracy: 0.9982\n",
      "Epoch 38/40\n",
      "3551/3551 [==============================] - 28s 8ms/step - loss: 0.0075 - accuracy: 0.9980 - val_loss: 0.0054 - val_accuracy: 0.9988\n",
      "Epoch 39/40\n",
      "3551/3551 [==============================] - 28s 8ms/step - loss: 0.0048 - accuracy: 0.9992 - val_loss: 0.0054 - val_accuracy: 0.9988\n",
      "Epoch 40/40\n",
      "3551/3551 [==============================] - 27s 8ms/step - loss: 0.0034 - accuracy: 0.9994 - val_loss: 0.0039 - val_accuracy: 0.9988\n"
     ]
    },
    {
     "data": {
      "image/png": "[encoded data removed]",
      "text/plain": [
       "<Figure size 432x288 with 1 Axes>"
      ]
     },
     "metadata": {
      "needs_background": "light"
     },
     "output_type": "display_data"
    },
    {
     "name": "stdout",
     "output_type": "stream",
     "text": [
      "3400/3400 [==============================] - 9s 3ms/step\n",
      "binary_crossentropy[0.4936375032781678, 0.9244117736816406]\n"
     ]
    }
   ],
   "source": [
    "loss = 'binary_crossentropy'\n",
    "model = getLossModel2(train_Xh, train_y, loss)\n",
    "test_mse = model.evaluate(test_Xh, test_y, verbose=1)\n",
    "print(loss + str(test_mse))"
   ]
  },
  {
   "cell_type": "code",
   "execution_count": 35,
   "metadata": {},
   "outputs": [
    {
     "name": "stdout",
     "output_type": "stream",
     "text": [
      "Confusion Matrix\n",
      "[[ 454  165]\n",
      " [  92 2689]]\n",
      "Classification Report\n",
      "               precision    recall  f1-score   support\n",
      "\n",
      "Not Depressed       0.83      0.73      0.78       619\n",
      "    Depressed       0.94      0.97      0.95      2781\n",
      "\n",
      "     accuracy                           0.92      3400\n",
      "    macro avg       0.89      0.85      0.87      3400\n",
      " weighted avg       0.92      0.92      0.92      3400\n",
      "\n"
     ]
    },
    {
     "data": {
      "image/png": "[encoded data removed]",
      "text/plain": [
       "<Figure size 432x288 with 2 Axes>"
      ]
     },
     "metadata": {
      "needs_background": "light"
     },
     "output_type": "display_data"
    }
   ],
   "source": [
    "num_of_test_samples = 3400\n",
    "batch_size = 120\n",
    "y_pred = model.predict_classes(test_Xh, num_of_test_samples // batch_size+1)\n",
    "print('Confusion Matrix')\n",
    "cm = confusion_matrix(test_y, y_pred)\n",
    "target_names = ['Not Depressed', 'Depressed']\n",
    "plot_confusion_matrix(cm, classes=target_names, title='Confusion Matrix')\n",
    "print('Classification Report')\n",
    "print(classification_report(test_y, y_pred, target_names=target_names))"
   ]
  },
  {
   "cell_type": "markdown",
   "metadata": {},
   "source": [
    "# Test Model 1 & 2 using first post\n",
    "For depressed users, the first post is the depressed post. For non dereseed users, it is their first post collected."
   ]
  },
  {
   "cell_type": "markdown",
   "metadata": {},
   "source": [
    "## Remove Historical Posts"
   ]
  },
  {
   "cell_type": "code",
   "execution_count": 37,
   "metadata": {},
   "outputs": [
    {
     "data": {
      "text/plain": [
       "(3551, 1, 768)"
      ]
     },
     "execution_count": 37,
     "metadata": {},
     "output_type": "execute_result"
    }
   ],
   "source": [
    "train_Xd = train_X[:, 0]\n",
    "train_Xd = np.reshape(train_Xd, (train_Xd.shape[0], 1, train_Xd.shape[1]))\n",
    "val_Xd = val_X[:, 0]\n",
    "val_Xd = np.reshape(val_Xd, (val_Xd.shape[0], 1, val_Xd.shape[1]))\n",
    "test_Xd = test_X[:, 0]\n",
    "test_Xd = np.reshape(test_Xd, (test_Xd.shape[0], 1, test_Xd.shape[1]))\n",
    "train_Xd.shape"
   ]
  },
  {
   "cell_type": "markdown",
   "metadata": {},
   "source": [
    "## Test Model 1 on first post only"
   ]
  },
  {
   "cell_type": "code",
   "execution_count": 38,
   "metadata": {},
   "outputs": [],
   "source": [
    "def createLSTM(X_data, loss):\n",
    "    model = Sequential()\n",
    "\n",
    "    # layer 1: LSTM\n",
    "    model.add(LSTM(400, input_shape=(X_data.shape[1], X_data.shape[2])\n",
    "                   , return_sequences=True))\n",
    "    model.add(Dropout(0.2))\n",
    "    # layer 2: LSTM\n",
    "    model.add(LSTM(150, return_sequences=False))\n",
    "    model.add(Dropout(0.2))\n",
    "\n",
    "    # output\n",
    "    model.add(Dense(1))\n",
    "    model.compile(loss=loss, optimizer='adam', metrics=['accuracy'])\n",
    "    return model"
   ]
  },
  {
   "cell_type": "code",
   "execution_count": 39,
   "metadata": {},
   "outputs": [],
   "source": [
    "def getLossModel(train_Xd, train_y, loss):\n",
    "    model = createLSTM(train_Xd, loss)\n",
    "    # fit network\n",
    "    history = model.fit(train_Xd, train_y, epochs=40, batch_size=120, validation_data=(val_Xd, val_y))\n",
    "\n",
    "    # plot history\n",
    "    plt.plot(history.history['loss'], label='train')\n",
    "    plt.legend()\n",
    "    plt.show()\n",
    "\n",
    "    return model"
   ]
  },
  {
   "cell_type": "code",
   "execution_count": 40,
   "metadata": {},
   "outputs": [
    {
     "name": "stdout",
     "output_type": "stream",
     "text": [
      "Train on 3551 samples, validate on 1673 samples\n",
      "Epoch 1/40\n",
      "3551/3551 [==============================] - 2s 429us/step - loss: 0.1762 - accuracy: 0.7778 - val_loss: 0.0929 - val_accuracy: 0.8685\n",
      "Epoch 2/40\n",
      "3551/3551 [==============================] - 1s 275us/step - loss: 0.0889 - accuracy: 0.8826 - val_loss: 0.0766 - val_accuracy: 0.9068\n",
      "Epoch 3/40\n",
      "3551/3551 [==============================] - 1s 277us/step - loss: 0.0771 - accuracy: 0.9062 - val_loss: 0.0708 - val_accuracy: 0.8990\n",
      "Epoch 4/40\n",
      "3551/3551 [==============================] - 1s 280us/step - loss: 0.0724 - accuracy: 0.9079 - val_loss: 0.0665 - val_accuracy: 0.9074\n",
      "Epoch 5/40\n",
      "3551/3551 [==============================] - 1s 295us/step - loss: 0.0666 - accuracy: 0.9161 - val_loss: 0.0640 - val_accuracy: 0.9085\n",
      "Epoch 6/40\n",
      "3551/3551 [==============================] - 1s 283us/step - loss: 0.0635 - accuracy: 0.9206 - val_loss: 0.0580 - val_accuracy: 0.9217\n",
      "Epoch 7/40\n",
      "3551/3551 [==============================] - 1s 282us/step - loss: 0.0598 - accuracy: 0.9271 - val_loss: 0.0570 - val_accuracy: 0.9211\n",
      "Epoch 8/40\n",
      "3551/3551 [==============================] - 1s 280us/step - loss: 0.0575 - accuracy: 0.9271 - val_loss: 0.0502 - val_accuracy: 0.9354\n",
      "Epoch 9/40\n",
      "3551/3551 [==============================] - 1s 294us/step - loss: 0.0549 - accuracy: 0.9302 - val_loss: 0.0463 - val_accuracy: 0.9456\n",
      "Epoch 10/40\n",
      "3551/3551 [==============================] - 1s 292us/step - loss: 0.0507 - accuracy: 0.9417 - val_loss: 0.0483 - val_accuracy: 0.9480\n",
      "Epoch 11/40\n",
      "3551/3551 [==============================] - 1s 303us/step - loss: 0.0528 - accuracy: 0.9395 - val_loss: 0.0396 - val_accuracy: 0.9564\n",
      "Epoch 12/40\n",
      "3551/3551 [==============================] - 1s 308us/step - loss: 0.0472 - accuracy: 0.9496 - val_loss: 0.0373 - val_accuracy: 0.9588\n",
      "Epoch 13/40\n",
      "3551/3551 [==============================] - 1s 310us/step - loss: 0.0411 - accuracy: 0.9552 - val_loss: 0.0348 - val_accuracy: 0.9671\n",
      "Epoch 14/40\n",
      "3551/3551 [==============================] - 1s 307us/step - loss: 0.0404 - accuracy: 0.9580 - val_loss: 0.0312 - val_accuracy: 0.9701\n",
      "Epoch 15/40\n",
      "3551/3551 [==============================] - 1s 298us/step - loss: 0.0360 - accuracy: 0.9659 - val_loss: 0.0294 - val_accuracy: 0.9701\n",
      "Epoch 16/40\n",
      "3551/3551 [==============================] - 1s 285us/step - loss: 0.0347 - accuracy: 0.9656 - val_loss: 0.0266 - val_accuracy: 0.9761\n",
      "Epoch 17/40\n",
      "3551/3551 [==============================] - 1s 294us/step - loss: 0.0305 - accuracy: 0.9741 - val_loss: 0.0234 - val_accuracy: 0.9815\n",
      "Epoch 18/40\n",
      "3551/3551 [==============================] - 1s 285us/step - loss: 0.0290 - accuracy: 0.9755 - val_loss: 0.0220 - val_accuracy: 0.9833\n",
      "Epoch 19/40\n",
      "3551/3551 [==============================] - 1s 278us/step - loss: 0.0272 - accuracy: 0.9778 - val_loss: 0.0228 - val_accuracy: 0.9845\n",
      "Epoch 20/40\n",
      "3551/3551 [==============================] - 1s 285us/step - loss: 0.0253 - accuracy: 0.9786 - val_loss: 0.0185 - val_accuracy: 0.9863\n",
      "Epoch 21/40\n",
      "3551/3551 [==============================] - 1s 295us/step - loss: 0.0231 - accuracy: 0.9839 - val_loss: 0.0185 - val_accuracy: 0.9857\n",
      "Epoch 22/40\n",
      "3551/3551 [==============================] - 1s 298us/step - loss: 0.0218 - accuracy: 0.9856 - val_loss: 0.0159 - val_accuracy: 0.9880\n",
      "Epoch 23/40\n",
      "3551/3551 [==============================] - 1s 303us/step - loss: 0.0210 - accuracy: 0.9865 - val_loss: 0.0163 - val_accuracy: 0.9874\n",
      "Epoch 24/40\n",
      "3551/3551 [==============================] - 1s 296us/step - loss: 0.0210 - accuracy: 0.9854 - val_loss: 0.0148 - val_accuracy: 0.9886\n",
      "Epoch 25/40\n",
      "3551/3551 [==============================] - 1s 300us/step - loss: 0.0198 - accuracy: 0.9876 - val_loss: 0.0140 - val_accuracy: 0.9886\n",
      "Epoch 26/40\n",
      "3551/3551 [==============================] - 1s 287us/step - loss: 0.0178 - accuracy: 0.9890 - val_loss: 0.0141 - val_accuracy: 0.9880\n",
      "Epoch 27/40\n",
      "3551/3551 [==============================] - 1s 310us/step - loss: 0.0160 - accuracy: 0.9887 - val_loss: 0.0120 - val_accuracy: 0.9898\n",
      "Epoch 28/40\n",
      "3551/3551 [==============================] - 1s 292us/step - loss: 0.0156 - accuracy: 0.9907 - val_loss: 0.0110 - val_accuracy: 0.9910\n",
      "Epoch 29/40\n",
      "3551/3551 [==============================] - 1s 285us/step - loss: 0.0146 - accuracy: 0.9901 - val_loss: 0.0135 - val_accuracy: 0.9928\n",
      "Epoch 30/40\n",
      "3551/3551 [==============================] - 1s 288us/step - loss: 0.0149 - accuracy: 0.9918 - val_loss: 0.0108 - val_accuracy: 0.9928\n",
      "Epoch 31/40\n",
      "3551/3551 [==============================] - 1s 294us/step - loss: 0.0134 - accuracy: 0.9930 - val_loss: 0.0092 - val_accuracy: 0.9922\n",
      "Epoch 32/40\n",
      "3551/3551 [==============================] - 1s 285us/step - loss: 0.0130 - accuracy: 0.9924 - val_loss: 0.0100 - val_accuracy: 0.9934\n",
      "Epoch 33/40\n",
      "3551/3551 [==============================] - 1s 280us/step - loss: 0.0129 - accuracy: 0.9935 - val_loss: 0.0087 - val_accuracy: 0.9934\n",
      "Epoch 34/40\n",
      "3551/3551 [==============================] - 1s 283us/step - loss: 0.0115 - accuracy: 0.9932 - val_loss: 0.0077 - val_accuracy: 0.9934\n",
      "Epoch 35/40\n",
      "3551/3551 [==============================] - 1s 286us/step - loss: 0.0112 - accuracy: 0.9946 - val_loss: 0.0074 - val_accuracy: 0.9940\n",
      "Epoch 36/40\n",
      "3551/3551 [==============================] - 1s 283us/step - loss: 0.0102 - accuracy: 0.9949 - val_loss: 0.0081 - val_accuracy: 0.9934\n",
      "Epoch 37/40\n",
      "3551/3551 [==============================] - 1s 277us/step - loss: 0.0106 - accuracy: 0.9944 - val_loss: 0.0069 - val_accuracy: 0.9934\n",
      "Epoch 38/40\n",
      "3551/3551 [==============================] - 1s 293us/step - loss: 0.0107 - accuracy: 0.9946 - val_loss: 0.0071 - val_accuracy: 0.9946\n",
      "Epoch 39/40\n",
      "3551/3551 [==============================] - 1s 295us/step - loss: 0.0094 - accuracy: 0.9958 - val_loss: 0.0063 - val_accuracy: 0.9940\n",
      "Epoch 40/40\n",
      "3551/3551 [==============================] - 1s 314us/step - loss: 0.0090 - accuracy: 0.9952 - val_loss: 0.0069 - val_accuracy: 0.9946\n"
     ]
    },
    {
     "data": {
      "image/png": "[encoded data removed]",
      "text/plain": [
       "<Figure size 432x288 with 1 Axes>"
      ]
     },
     "metadata": {
      "needs_background": "light"
     },
     "output_type": "display_data"
    },
    {
     "name": "stdout",
     "output_type": "stream",
     "text": [
      "3400/3400 [==============================] - 0s 127us/step\n",
      "mean_squared_error[0.043500202862436284, 0.9470587968826294]\n"
     ]
    }
   ],
   "source": [
    "loss = 'mean_squared_error'\n",
    "model = getLossModel(train_Xd, train_y, loss)\n",
    "test_mse = model.evaluate(test_Xd, test_y, verbose=1)\n",
    "print(loss + str(test_mse))"
   ]
  },
  {
   "cell_type": "code",
   "execution_count": 41,
   "metadata": {},
   "outputs": [
    {
     "name": "stdout",
     "output_type": "stream",
     "text": [
      "Confusion Matrix\n",
      "[[ 532   87]\n",
      " [  88 2693]]\n",
      "Classification Report\n",
      "               precision    recall  f1-score   support\n",
      "\n",
      "Not Depressed       0.86      0.86      0.86       619\n",
      "    Depressed       0.97      0.97      0.97      2781\n",
      "\n",
      "     accuracy                           0.95      3400\n",
      "    macro avg       0.91      0.91      0.91      3400\n",
      " weighted avg       0.95      0.95      0.95      3400\n",
      "\n"
     ]
    },
    {
     "data": {
      "image/png": "[encoded data removed]",
      "text/plain": [
       "<Figure size 432x288 with 2 Axes>"
      ]
     },
     "metadata": {
      "needs_background": "light"
     },
     "output_type": "display_data"
    }
   ],
   "source": [
    "num_of_test_samples = 3400\n",
    "batch_size = 120\n",
    "y_pred = model.predict_classes(test_Xd, num_of_test_samples // batch_size+1)\n",
    "print('Confusion Matrix')\n",
    "cm = confusion_matrix(test_y, y_pred)\n",
    "target_names = ['Not Depressed', 'Depressed']\n",
    "plot_confusion_matrix(cm, classes=target_names, title='Confusion Matrix')\n",
    "print('Classification Report')\n",
    "print(classification_report(test_y, y_pred, target_names=target_names))"
   ]
  },
  {
   "cell_type": "markdown",
   "metadata": {},
   "source": [
    "## Test Model 2 on first post only"
   ]
  },
  {
   "cell_type": "code",
   "execution_count": 42,
   "metadata": {},
   "outputs": [],
   "source": [
    "def createLSTM2(X_data, loss):\n",
    "    model = Sequential()\n",
    "\n",
    "    # layer 1: LSTM\n",
    "    model.add(LSTM(768, input_shape=(X_data.shape[1], X_data.shape[2])\n",
    "                   , return_sequences=False))\n",
    "    \n",
    "    # output\n",
    "    model.add(Dense(1, activation='sigmoid'))\n",
    "    model.compile(loss=loss, optimizer='adam', metrics=['accuracy'])\n",
    "    return model"
   ]
  },
  {
   "cell_type": "code",
   "execution_count": 43,
   "metadata": {},
   "outputs": [],
   "source": [
    "def getLossModel2(train_Xd, train_y, loss):\n",
    "    model = createLSTM2(train_Xd, loss)\n",
    "    # fit network\n",
    "    history = model.fit(train_Xd, train_y, epochs=40, batch_size=120, validation_data=(val_Xd, val_y))\n",
    "\n",
    "    # plot history\n",
    "    plt.plot(history.history['loss'], label='train')\n",
    "    plt.legend()\n",
    "    plt.show()\n",
    "\n",
    "    return model"
   ]
  },
  {
   "cell_type": "code",
   "execution_count": 44,
   "metadata": {},
   "outputs": [
    {
     "name": "stdout",
     "output_type": "stream",
     "text": [
      "Train on 3551 samples, validate on 1673 samples\n",
      "Epoch 1/40\n",
      "3551/3551 [==============================] - 2s 645us/step - loss: 0.3450 - accuracy: 0.8231 - val_loss: 0.2452 - val_accuracy: 0.8864\n",
      "Epoch 2/40\n",
      "3551/3551 [==============================] - 2s 540us/step - loss: 0.2270 - accuracy: 0.8997 - val_loss: 0.2238 - val_accuracy: 0.9103\n",
      "Epoch 3/40\n",
      "3551/3551 [==============================] - 2s 556us/step - loss: 0.2117 - accuracy: 0.9090 - val_loss: 0.2006 - val_accuracy: 0.9187\n",
      "Epoch 4/40\n",
      "3551/3551 [==============================] - 2s 533us/step - loss: 0.2047 - accuracy: 0.9113 - val_loss: 0.1883 - val_accuracy: 0.9235\n",
      "Epoch 5/40\n",
      "3551/3551 [==============================] - 2s 541us/step - loss: 0.1905 - accuracy: 0.9203 - val_loss: 0.1777 - val_accuracy: 0.9265\n",
      "Epoch 6/40\n",
      "3551/3551 [==============================] - 2s 531us/step - loss: 0.1787 - accuracy: 0.9254 - val_loss: 0.1673 - val_accuracy: 0.9337\n",
      "Epoch 7/40\n",
      "3551/3551 [==============================] - 2s 584us/step - loss: 0.1710 - accuracy: 0.9319 - val_loss: 0.1577 - val_accuracy: 0.9396\n",
      "Epoch 8/40\n",
      "3551/3551 [==============================] - 2s 561us/step - loss: 0.1586 - accuracy: 0.9389 - val_loss: 0.1463 - val_accuracy: 0.9438\n",
      "Epoch 9/40\n",
      "3551/3551 [==============================] - 2s 550us/step - loss: 0.1510 - accuracy: 0.9411 - val_loss: 0.1317 - val_accuracy: 0.9552\n",
      "Epoch 10/40\n",
      "3551/3551 [==============================] - 2s 567us/step - loss: 0.1395 - accuracy: 0.9496 - val_loss: 0.1327 - val_accuracy: 0.9474\n",
      "Epoch 11/40\n",
      "3551/3551 [==============================] - 2s 526us/step - loss: 0.1259 - accuracy: 0.9558 - val_loss: 0.1143 - val_accuracy: 0.9605\n",
      "Epoch 12/40\n",
      "3551/3551 [==============================] - 2s 533us/step - loss: 0.1122 - accuracy: 0.9609 - val_loss: 0.0951 - val_accuracy: 0.9701\n",
      "Epoch 13/40\n",
      "3551/3551 [==============================] - 2s 536us/step - loss: 0.0978 - accuracy: 0.9654 - val_loss: 0.0782 - val_accuracy: 0.9773\n",
      "Epoch 14/40\n",
      "3551/3551 [==============================] - 2s 531us/step - loss: 0.0853 - accuracy: 0.9730 - val_loss: 0.0893 - val_accuracy: 0.9635\n",
      "Epoch 15/40\n",
      "3551/3551 [==============================] - 2s 539us/step - loss: 0.0771 - accuracy: 0.9772 - val_loss: 0.0569 - val_accuracy: 0.9868\n",
      "Epoch 16/40\n",
      "3551/3551 [==============================] - 2s 574us/step - loss: 0.0633 - accuracy: 0.9806 - val_loss: 0.0553 - val_accuracy: 0.9874\n",
      "Epoch 17/40\n",
      "3551/3551 [==============================] - 2s 563us/step - loss: 0.0537 - accuracy: 0.9859 - val_loss: 0.0412 - val_accuracy: 0.9922\n",
      "Epoch 18/40\n",
      "3551/3551 [==============================] - 2s 553us/step - loss: 0.0450 - accuracy: 0.9893 - val_loss: 0.0323 - val_accuracy: 0.9946\n",
      "Epoch 19/40\n",
      "3551/3551 [==============================] - 2s 559us/step - loss: 0.0362 - accuracy: 0.9913 - val_loss: 0.0269 - val_accuracy: 0.9958\n",
      "Epoch 20/40\n",
      "3551/3551 [==============================] - 2s 527us/step - loss: 0.0302 - accuracy: 0.9938 - val_loss: 0.0255 - val_accuracy: 0.9958\n",
      "Epoch 21/40\n",
      "3551/3551 [==============================] - 2s 538us/step - loss: 0.0295 - accuracy: 0.9944 - val_loss: 0.0475 - val_accuracy: 0.9839\n",
      "Epoch 22/40\n",
      "3551/3551 [==============================] - 2s 573us/step - loss: 0.0220 - accuracy: 0.9966 - val_loss: 0.0191 - val_accuracy: 0.9982\n",
      "Epoch 23/40\n",
      "3551/3551 [==============================] - 2s 538us/step - loss: 0.0188 - accuracy: 0.9955 - val_loss: 0.0239 - val_accuracy: 0.9946\n",
      "Epoch 24/40\n",
      "3551/3551 [==============================] - 2s 559us/step - loss: 0.0241 - accuracy: 0.9944 - val_loss: 0.0219 - val_accuracy: 0.9964\n",
      "Epoch 25/40\n",
      "3551/3551 [==============================] - 2s 548us/step - loss: 0.0181 - accuracy: 0.9972 - val_loss: 0.0134 - val_accuracy: 0.9982\n",
      "Epoch 26/40\n",
      "3551/3551 [==============================] - 2s 568us/step - loss: 0.0129 - accuracy: 0.9975 - val_loss: 0.0083 - val_accuracy: 0.9988\n",
      "Epoch 27/40\n",
      "3551/3551 [==============================] - 2s 534us/step - loss: 0.0100 - accuracy: 0.9980 - val_loss: 0.0097 - val_accuracy: 0.9982\n",
      "Epoch 28/40\n",
      "3551/3551 [==============================] - 2s 532us/step - loss: 0.0105 - accuracy: 0.9986 - val_loss: 0.0077 - val_accuracy: 0.9982\n",
      "Epoch 29/40\n",
      "3551/3551 [==============================] - 2s 546us/step - loss: 0.0105 - accuracy: 0.9983 - val_loss: 0.0083 - val_accuracy: 0.9982\n",
      "Epoch 30/40\n",
      "3551/3551 [==============================] - 2s 533us/step - loss: 0.0083 - accuracy: 0.9983 - val_loss: 0.0132 - val_accuracy: 0.9964\n",
      "Epoch 31/40\n",
      "3551/3551 [==============================] - 2s 568us/step - loss: 0.0077 - accuracy: 0.9989 - val_loss: 0.0054 - val_accuracy: 0.9994\n",
      "Epoch 32/40\n",
      "3551/3551 [==============================] - 2s 557us/step - loss: 0.0058 - accuracy: 0.9989 - val_loss: 0.0041 - val_accuracy: 0.9994\n",
      "Epoch 33/40\n",
      "3551/3551 [==============================] - 2s 550us/step - loss: 0.0054 - accuracy: 0.9983 - val_loss: 0.0056 - val_accuracy: 0.9988\n",
      "Epoch 34/40\n",
      "3551/3551 [==============================] - 2s 557us/step - loss: 0.0052 - accuracy: 0.9989 - val_loss: 0.0039 - val_accuracy: 0.9988\n",
      "Epoch 35/40\n",
      "3551/3551 [==============================] - 2s 541us/step - loss: 0.0050 - accuracy: 0.9989 - val_loss: 0.0048 - val_accuracy: 0.9994\n",
      "Epoch 36/40\n",
      "3551/3551 [==============================] - 2s 534us/step - loss: 0.0056 - accuracy: 0.9994 - val_loss: 0.0039 - val_accuracy: 0.9988\n",
      "Epoch 37/40\n",
      "3551/3551 [==============================] - 2s 542us/step - loss: 0.0042 - accuracy: 0.9989 - val_loss: 0.0037 - val_accuracy: 0.9994\n",
      "Epoch 38/40\n",
      "3551/3551 [==============================] - 2s 529us/step - loss: 0.0042 - accuracy: 0.9989 - val_loss: 0.0032 - val_accuracy: 0.9994\n",
      "Epoch 39/40\n",
      "3551/3551 [==============================] - 2s 542us/step - loss: 0.0043 - accuracy: 0.9989 - val_loss: 0.0050 - val_accuracy: 0.9988\n",
      "Epoch 40/40\n",
      "3551/3551 [==============================] - 2s 580us/step - loss: 0.0043 - accuracy: 0.9989 - val_loss: 0.0051 - val_accuracy: 0.9988\n"
     ]
    },
    {
     "data": {
      "image/png": "[encoded data removed]",
      "text/plain": [
       "<Figure size 432x288 with 1 Axes>"
      ]
     },
     "metadata": {
      "needs_background": "light"
     },
     "output_type": "display_data"
    },
    {
     "name": "stdout",
     "output_type": "stream",
     "text": [
      "3400/3400 [==============================] - 0s 109us/step\n",
      "binary_crossentropy[0.25497932332759615, 0.9479411840438843]\n"
     ]
    }
   ],
   "source": [
    "loss = 'binary_crossentropy'\n",
    "model = getLossModel2(train_Xd, train_y, loss)\n",
    "test_mse = model.evaluate(test_Xd, test_y, verbose=1)\n",
    "print(loss + str(test_mse))"
   ]
  },
  {
   "cell_type": "code",
   "execution_count": 45,
   "metadata": {},
   "outputs": [
    {
     "name": "stdout",
     "output_type": "stream",
     "text": [
      "Confusion Matrix\n",
      "[[ 550   69]\n",
      " [ 108 2673]]\n",
      "Classification Report\n",
      "               precision    recall  f1-score   support\n",
      "\n",
      "Not Depressed       0.84      0.89      0.86       619\n",
      "    Depressed       0.97      0.96      0.97      2781\n",
      "\n",
      "     accuracy                           0.95      3400\n",
      "    macro avg       0.91      0.92      0.91      3400\n",
      " weighted avg       0.95      0.95      0.95      3400\n",
      "\n"
     ]
    },
    {
     "data": {
      "image/png": "[encoded data removed]",
      "text/plain": [
       "<Figure size 432x288 with 2 Axes>"
      ]
     },
     "metadata": {
      "needs_background": "light"
     },
     "output_type": "display_data"
    }
   ],
   "source": [
    "num_of_test_samples = 3400\n",
    "batch_size = 120\n",
    "y_pred = model.predict_classes(test_Xd, num_of_test_samples // batch_size+1)\n",
    "print('Confusion Matrix')\n",
    "cm = confusion_matrix(test_y, y_pred)\n",
    "target_names = ['Not Depressed', 'Depressed']\n",
    "plot_confusion_matrix(cm, classes=target_names, title='Confusion Matrix')\n",
    "print('Classification Report')\n",
    "print(classification_report(test_y, y_pred, target_names=target_names))"
   ]
  },
  {
   "cell_type": "code",
   "execution_count": null,
   "metadata": {},
   "outputs": [],
   "source": []
  }
 ],
 "metadata": {
  "kernelspec": {
   "display_name": "Python 3",
   "language": "python",
   "name": "python3"
  },
  "language_info": {
   "codemirror_mode": {
    "name": "ipython",
    "version": 3
   },
   "file_extension": ".py",
   "mimetype": "text/x-python",
   "name": "python",
   "nbconvert_exporter": "python",
   "pygments_lexer": "ipython3",
   "version": "3.7.9"
  }
 },
 "nbformat": 4,
 "nbformat_minor": 4
}
